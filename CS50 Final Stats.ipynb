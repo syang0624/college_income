{
 "cells": [
  {
   "cell_type": "code",
   "execution_count": 125,
   "metadata": {},
   "outputs": [
    {
     "data": {
      "text/html": [
       "<div>\n",
       "<style scoped>\n",
       "    .dataframe tbody tr th:only-of-type {\n",
       "        vertical-align: middle;\n",
       "    }\n",
       "\n",
       "    .dataframe tbody tr th {\n",
       "        vertical-align: top;\n",
       "    }\n",
       "\n",
       "    .dataframe thead th {\n",
       "        text-align: right;\n",
       "    }\n",
       "</style>\n",
       "<table border=\"1\" class=\"dataframe\">\n",
       "  <thead>\n",
       "    <tr style=\"text-align: right;\">\n",
       "      <th></th>\n",
       "      <th>Region</th>\n",
       "      <th>Starting Median Salary</th>\n",
       "    </tr>\n",
       "  </thead>\n",
       "  <tbody>\n",
       "    <tr>\n",
       "      <th>0</th>\n",
       "      <td>Southern</td>\n",
       "      <td>64000</td>\n",
       "    </tr>\n",
       "    <tr>\n",
       "      <th>1</th>\n",
       "      <td>Southern</td>\n",
       "      <td>55000</td>\n",
       "    </tr>\n",
       "    <tr>\n",
       "      <th>2</th>\n",
       "      <td>Southern</td>\n",
       "      <td>58900</td>\n",
       "    </tr>\n",
       "    <tr>\n",
       "      <th>3</th>\n",
       "      <td>Southern</td>\n",
       "      <td>58300</td>\n",
       "    </tr>\n",
       "    <tr>\n",
       "      <th>4</th>\n",
       "      <td>Southern</td>\n",
       "      <td>51200</td>\n",
       "    </tr>\n",
       "    <tr>\n",
       "      <th>5</th>\n",
       "      <td>Southern</td>\n",
       "      <td>52700</td>\n",
       "    </tr>\n",
       "    <tr>\n",
       "      <th>6</th>\n",
       "      <td>Southern</td>\n",
       "      <td>47000</td>\n",
       "    </tr>\n",
       "  </tbody>\n",
       "</table>\n",
       "</div>"
      ],
      "text/plain": [
       "     Region  Starting Median Salary\n",
       "0  Southern                   64000\n",
       "1  Southern                   55000\n",
       "2  Southern                   58900\n",
       "3  Southern                   58300\n",
       "4  Southern                   51200\n",
       "5  Southern                   52700\n",
       "6  Southern                   47000"
      ]
     },
     "execution_count": 125,
     "metadata": {},
     "output_type": "execute_result"
    }
   ],
   "source": [
    "#import all the necessary libraries\n",
    "\n",
    "%matplotlib inline\n",
    "import pandas as pd\n",
    "import numpy as np\n",
    "from scipy import stats\n",
    "import matplotlib.pyplot as plt\n",
    "plt.rcParams.update({'font.size': 14})\n",
    "\n",
    "#import the data set\n",
    "data = pd.read_csv(\"college data set - Sheet2.csv\", sep=',')\n",
    "salary = data[\"Starting Median Salary\"]\n",
    "data.head(7)\n"
   ]
  },
  {
   "cell_type": "code",
   "execution_count": 126,
   "metadata": {},
   "outputs": [
    {
     "name": "stdout",
     "output_type": "stream",
     "text": [
      "Your # of data is: 153\n",
      "Mean is: 46947.06\n",
      "Median is: 45600.0\n",
      "Mode is: [36900, 41100, 42100, 42800, 43100, 45400, 45700, 48000]\n",
      "Standard Deviation is: 6847.3\n",
      "Your range is: 37400\n"
     ]
    }
   ],
   "source": [
    "salary_mean = round(salary.mean(),2) #round up to two digits\n",
    "salary_median = salary.median() \n",
    "sd_salary = round(np.std(salary),2) #round up to two digits\n",
    "\n",
    "def mode(lst): #since I have multiple modes, I created another function for mode\n",
    "    L1=[] #count the occurrence of each number and append or add findings to the list\n",
    "  \n",
    "    i = 0 #count the numbers and put them into L1\n",
    "    while i < len(lst) : \n",
    "        L1.append(lst.count(lst[i])) \n",
    "        i += 1\n",
    "\n",
    "    # the occurrences for each number in sorted lst \n",
    "    # create a custom dictionary d1 for k : V \n",
    "    # k = value, v = occurence\n",
    "\n",
    "    d1 = dict(zip(lst, L1))  \n",
    "    d2=[k for (k,v) in d1.items() if v == max(L1)] # the k values with the highest v values. \n",
    "    return d2\n",
    "\n",
    "print(\"Your # of data is:\",len(salary))\n",
    "print(\"Mean is:\", salary_mean)\n",
    "print(\"Median is:\", salary_median)\n",
    "print(\"Mode is:\", sorted(mode(salary.to_list())))\n",
    "print(\"Standard Deviation is:\", sd_salary)\n",
    "print(\"Your range is:\", max(salary) - min(salary))"
   ]
  },
  {
   "cell_type": "code",
   "execution_count": null,
   "metadata": {},
   "outputs": [],
   "source": []
  },
  {
   "cell_type": "code",
   "execution_count": 127,
   "metadata": {},
   "outputs": [
    {
     "data": {
      "image/png": "[encoded data removed]",
      "text/plain": [
       "<Figure size 720x288 with 1 Axes>"
      ]
     },
     "metadata": {
      "needs_background": "light"
     },
     "output_type": "display_data"
    }
   ],
   "source": [
    "plt.hist(salary, alpha=1, linewidth=5)\n",
    "plt.title(\"Distribution of Starting Median Salary\", fontsize = 15)\n",
    "plt.xlabel(\"Starting Median Salary\", fontsize = 10)\n",
    "plt.ylabel(\"Frequency of data\", fontsize = 10)\n",
    "plt.gcf().set_figwidth(10)\n",
    "\n",
    "plt.xticks([30000,35000,40000,45000,50000,55000,60000,65000,70000]) #increase xticks by 10000\n",
    "plt.axvline(salary_mean, color='g', label = \"Mean = 46947.06\") #label legend for mean\n",
    "plt.axvline(salary_median, color='r', label = \"Median = 45600.00\")#label legend for median\n",
    "plt.legend()\n",
    "ax=plt.gca()\n",
    "ax.set_facecolor('w')\n",
    "plt.show()"
   ]
  },
  {
   "cell_type": "code",
   "execution_count": 128,
   "metadata": {},
   "outputs": [
    {
     "name": "stdout",
     "output_type": "stream",
     "text": [
      "Your # of data is: 82\n",
      "Mean is: 48679.27\n",
      "Median is: 46700.0\n",
      "Mode is: [45700, 48000]\n",
      "Standard Deviation is: 7495.2\n",
      "Your range is: 35300\n"
     ]
    }
   ],
   "source": [
    "dataN = pd.read_csv(\"college data set - Northeastern.csv\", sep=',')\n",
    "salaryN = dataN[\"Starting Median Salary\"]\n",
    "\n",
    "salaryN_mean = round(salaryN.mean(),2) #round up to two digits\n",
    "salaryN_median = salaryN.median() \n",
    "sd_salaryN = round(np.std(salaryN),2) #round up to two digits\n",
    "\n",
    "def mode(lst): #since I have multiple modes, I created another function for mode\n",
    "    L1=[] #count the occurrence of each number and append or add findings to the list\n",
    "  \n",
    "    i = 0 #count the numbers and put them into L1\n",
    "    while i < len(lst) : \n",
    "        L1.append(lst.count(lst[i])) \n",
    "        i += 1\n",
    "\n",
    "    # the occurrences for each number in sorted lst \n",
    "    # create a custom dictionary d1 for k : V \n",
    "    # k = value, v = occurence\n",
    "\n",
    "    d1 = dict(zip(lst, L1))  \n",
    "    d2=[k for (k,v) in d1.items() if v == max(L1)] # the k values with the highest v values. \n",
    "    return d2\n",
    "\n",
    "print(\"Your # of data is:\",len(salaryN))\n",
    "print(\"Mean is:\", salaryN_mean)\n",
    "print(\"Median is:\", salaryN_median)\n",
    "print(\"Mode is:\", sorted(mode(salaryN.to_list())))\n",
    "print(\"Standard Deviation is:\", sd_salaryN)\n",
    "print(\"Your range is:\", max(salaryN) - min(salaryN))"
   ]
  },
  {
   "cell_type": "code",
   "execution_count": 129,
   "metadata": {},
   "outputs": [
    {
     "data": {
      "image/png": "[encoded data removed]",
      "text/plain": [
       "<Figure size 576x288 with 1 Axes>"
      ]
     },
     "metadata": {
      "needs_background": "light"
     },
     "output_type": "display_data"
    }
   ],
   "source": [
    "plt.hist(salaryN, alpha=1, linewidth=5)\n",
    "plt.title(\"Distribution of Starting Median Salary for Northeastern Universities\", fontsize = 15)\n",
    "plt.xlabel(\"Starting Median Salary\", fontsize = 10)\n",
    "plt.ylabel(\"Frequency of data\", fontsize = 10)\n",
    "plt.gcf().set_figwidth(8)\n",
    "\n",
    "plt.xticks([30000,35000,40000,45000,50000,55000,60000,65000,70000]) #increase xticks by 10000\n",
    "plt.axvline(salary_mean, color='g', label = \"Mean = 48679.27\") #label legend for mean\n",
    "plt.axvline(salary_median, color='r', label = \"Median = 46700.00\")#label legend for median\n",
    "plt.legend()\n",
    "ax=plt.gca()\n",
    "ax.set_facecolor('w')\n",
    "plt.show()"
   ]
  },
  {
   "cell_type": "code",
   "execution_count": 130,
   "metadata": {},
   "outputs": [
    {
     "name": "stdout",
     "output_type": "stream",
     "text": [
      "Your # of data is: 71\n",
      "Mean is: 44946.48\n",
      "Median is: 44100.0\n",
      "Mode is: [43100]\n",
      "Standard Deviation is: 5355.89\n",
      "Your range is: 29200\n"
     ]
    }
   ],
   "source": [
    "dataS = pd.read_csv(\"college data set - Southern.csv\", sep=',')\n",
    "salaryS = dataS[\"Starting Median Salary\"]\n",
    "\n",
    "salaryS_mean = round(salaryS.mean(),2) #round up to two digits\n",
    "salaryS_median = salaryS.median() \n",
    "sd_salaryS = round(np.std(salaryS),2) #round up to two digits\n",
    "\n",
    "def mode(lst): #since I have multiple modes, I created another function for mode\n",
    "    L1=[] #count the occurrence of each number and append or add findings to the list\n",
    "  \n",
    "    i = 0 #count the numbers and put them into L1\n",
    "    while i < len(lst) : \n",
    "        L1.append(lst.count(lst[i])) \n",
    "        i += 1\n",
    "\n",
    "    # the occurrences for each number in sorted lst \n",
    "    # create a custom dictionary d1 for k : V \n",
    "    # k = value, v = occurence\n",
    "\n",
    "    d1 = dict(zip(lst, L1))  \n",
    "    d2=[k for (k,v) in d1.items() if v == max(L1)] # the k values with the highest v values. \n",
    "    return d2\n",
    "\n",
    "print(\"Your # of data is:\",len(salaryS))\n",
    "print(\"Mean is:\", salaryS_mean)\n",
    "print(\"Median is:\", salaryS_median)\n",
    "print(\"Mode is:\", sorted(mode(salaryS.to_list())))\n",
    "print(\"Standard Deviation is:\", sd_salaryS)\n",
    "print(\"Your range is:\", max(salaryS) - min(salaryS))"
   ]
  },
  {
   "cell_type": "code",
   "execution_count": 131,
   "metadata": {},
   "outputs": [
    {
     "data": {
      "image/png": "[encoded data removed]",
      "text/plain": [
       "<Figure size 576x288 with 1 Axes>"
      ]
     },
     "metadata": {
      "needs_background": "light"
     },
     "output_type": "display_data"
    }
   ],
   "source": [
    "plt.hist(salaryS, alpha=1, linewidth=5)\n",
    "plt.title(\"Distribution of Starting Median Salary for Southern Universities\", fontsize = 15)\n",
    "plt.xlabel(\"Starting Median Salary\", fontsize = 10)\n",
    "plt.ylabel(\"Frequency of data\", fontsize = 10)\n",
    "plt.gcf().set_figwidth(8)\n",
    "\n",
    "plt.xticks([30000,35000,40000,45000,50000,55000,60000,65000,70000]) #increase xticks by 10000\n",
    "plt.axvline(salary_mean, color='g', label = \"Mean = 44946.48\") #label legend for mean\n",
    "plt.axvline(salary_median, color='r', label = \"Median = 44100.00\")#label legend for median\n",
    "plt.legend()\n",
    "ax=plt.gca()\n",
    "ax.set_facecolor('w')\n",
    "plt.show()"
   ]
  },
  {
   "cell_type": "code",
   "execution_count": 132,
   "metadata": {},
   "outputs": [
    {
     "data": {
      "text/plain": [
       "(45849.77964777234, 48044.33799928649)"
      ]
     },
     "execution_count": 132,
     "metadata": {},
     "output_type": "execute_result"
    }
   ],
   "source": [
    "#confidence interval 1\n",
    "\n",
    "stats.t.interval(alpha=0.95, df=len(salary)-1, loc=np.mean(salary), scale=stats.sem(salary))"
   ]
  },
  {
   "cell_type": "code",
   "execution_count": 133,
   "metadata": {},
   "outputs": [
    {
     "data": {
      "text/plain": [
       "(47022.25808619383, 50336.278499172025)"
      ]
     },
     "execution_count": 133,
     "metadata": {},
     "output_type": "execute_result"
    }
   ],
   "source": [
    "#confidence interval northeastern\n",
    "\n",
    "stats.t.interval(alpha=0.95, df=len(salaryN)-1, loc=np.mean(salaryN), scale=stats.sem(salaryN))"
   ]
  },
  {
   "cell_type": "code",
   "execution_count": 134,
   "metadata": {},
   "outputs": [
    {
     "data": {
      "text/plain": [
       "(43669.73673807361, 46223.221008405264)"
      ]
     },
     "execution_count": 134,
     "metadata": {},
     "output_type": "execute_result"
    }
   ],
   "source": [
    "#confidence interval southern\n",
    "\n",
    "stats.t.interval(alpha=0.95, df=len(salaryS)-1, loc=np.mean(salaryS), scale=stats.sem(salaryS))"
   ]
  },
  {
   "cell_type": "code",
   "execution_count": 135,
   "metadata": {},
   "outputs": [
    {
     "name": "stdout",
     "output_type": "stream",
     "text": [
      "t = 3.5536687864510905\n",
      "p = 0.0006852898454314402\n",
      "d = 0.5627700377955126\n",
      "g = 0.5567187470665286\n"
     ]
    }
   ],
   "source": [
    "def dif_of_means_test(data1,data2,tails):\n",
    "    n1 = len(data1) #length of the data is equal to the sample size\n",
    "    n2 = len(data2)\n",
    "\n",
    "    x1 = np.mean(data1) #use numpy to get mean here\n",
    "    x2 = np.mean(data2)\n",
    "\n",
    "    s1 = np.std(data1,ddof=1) # Having Bessel's correction here\n",
    "    s2 = np.std(data2,ddof=1) # Therefore I use (n-1) as my denominator\n",
    "\n",
    "    SE = np.sqrt(s1**2/n1 + s2**2/n2)\n",
    "    Tscore = np.abs((x2 - x1))/SE\n",
    "    df = min(n1,n2) - 1 # Using conservative estimation as Open Intro said.\n",
    "    pvalue = tails*stats.t.cdf(-Tscore,df)\n",
    "\n",
    "    SDupdated = np.sqrt((s1**2*(n1-1) + s2**2*(n2-1))/(n1+n2-2)) # OpenIntro section 5.3.6\n",
    "    Cohensd = (x2 - x1)/SDupdated\n",
    "    HedgesG = Cohensd*(1-(3/((4*df)-1)))\n",
    "\n",
    "    print('t =', Tscore)\n",
    "    print('p =', pvalue)\n",
    "    print('d =', np.abs(Cohensd)) #get an absolute value\n",
    "    print('g =', np.abs(HedgesG))\n",
    "    \n",
    "    \n",
    "dif_of_means_test(salaryN,salaryS,2) #have two tails"
   ]
  },
  {
   "cell_type": "code",
   "execution_count": null,
   "metadata": {},
   "outputs": [],
   "source": []
  }
 ],
 "metadata": {
  "kernelspec": {
   "display_name": "Python 3",
   "language": "python",
   "name": "python3"
  },
  "language_info": {
   "codemirror_mode": {
    "name": "ipython",
    "version": 3
   },
   "file_extension": ".py",
   "mimetype": "text/x-python",
   "name": "python",
   "nbconvert_exporter": "python",
   "pygments_lexer": "ipython3",
   "version": "3.8.3"
  }
 },
 "nbformat": 4,
 "nbformat_minor": 4
}
